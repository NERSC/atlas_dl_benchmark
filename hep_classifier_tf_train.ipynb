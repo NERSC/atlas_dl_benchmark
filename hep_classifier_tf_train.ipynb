{
 "cells": [
  {
   "cell_type": "code",
   "execution_count": 2,
   "metadata": {
    "collapsed": false
   },
   "outputs": [],
   "source": [
    "#os stuff\n",
    "import os\n",
    "import sys\n",
    "import h5py as h5\n",
    "import re\n",
    "import json\n",
    "\n",
    "#argument parsing\n",
    "import argparse\n",
    "\n",
    "#timing\n",
    "import time\n",
    "\n",
    "#numpy\n",
    "import numpy as np\n",
    "\n",
    "#tensorflow\n",
    "sys.path.append(\"/global/homes/t/tkurth/python/tfzoo/tensorflow_mkl_hdf5_mpi_cw\")\n",
    "import tensorflow as tf\n",
    "import tensorflow.contrib.keras as tfk\n",
    "\n",
    "#slurm helpers\n",
    "sys.path.append(\"../\")\n",
    "import slurm_tf_helper.setup_clusters as sc\n",
    "\n",
    "#housekeeping\n",
    "import networks.binary_classifier_tf as bc"
   ]
  },
  {
   "cell_type": "markdown",
   "metadata": {},
   "source": [
    "# Useful Functions"
   ]
  },
  {
   "cell_type": "code",
   "execution_count": null,
   "metadata": {
    "collapsed": true
   },
   "outputs": [],
   "source": [
    "def parse_arguments():\n",
    "    parser = argparse.ArgumentParser()\n",
    "    parser.add_argument(\"--config\", type=str, help=\"specify a config file in json format\")\n",
    "    parser.add_argument(\"--num_tasks\", type=int, default=1, help=\"specify the number of tasks\")\n",
    "    parser.add_argument(\"--num_ps\", type=int, default=0, help=\"specify the number of parameters servers\")\n",
    "    pargs = parser.parse_args()\n",
    "    \n",
    "    #load the json:\n",
    "    with open(pargs.config,\"r\") as f:\n",
    "        args = json.load(f)\n",
    "    \n",
    "    #set the rest\n",
    "    args['num_tasks'] = pargs.num_tasks\n",
    "    args['num_ps'] = pargs.num_ps\n",
    "    \n",
    "    #modify the activations\n",
    "    if args['conv_params']['activation'] == 'ReLU':\n",
    "        args['conv_params']['activation'] = tf.nn.relu\n",
    "    else:\n",
    "        raise ValueError('Only ReLU is supported as activation')\n",
    "        \n",
    "    #modify the initializers\n",
    "    if args['conv_params']['initializer'] == 'HE':\n",
    "        args['conv_params']['initializer'] = tfk.initializers.he_normal()\n",
    "    else:\n",
    "        raise ValueError('Only ReLU is supported as initializer')\n",
    "    \n",
    "    #now, see if all the paths are there\n",
    "    args['logpath'] = args['outputpath']+'/logs'\n",
    "    args['modelpath'] = args['outputpath']+'/models'\n",
    "    \n",
    "    if not os.path.isdir(args['logpath']):\n",
    "        print(\"Creating log directory \",args['logpath'])\n",
    "        os.makedirs(args['logpath'])\n",
    "    if not os.path.isdir(args['modelpath']):\n",
    "        print(\"Creating model directory \",args['modelpath'])\n",
    "        os.makedirs(args['modelpath'])\n",
    "    if not os.path.isdir(args['inputpath']):\n",
    "        raise ValueError(\"Please specify a valid path with input files in hdf5 format\")\n",
    "    \n",
    "    return args"
   ]
  },
  {
   "cell_type": "code",
   "execution_count": 3,
   "metadata": {
    "collapsed": true
   },
   "outputs": [],
   "source": [
    "def train_loop(sess,train_step,args,trainset,validationset):\n",
    "    \n",
    "    #counter stuff\n",
    "    trainset.reset()\n",
    "    validationset.reset()\n",
    "    \n",
    "    #restore weights belonging to graph\n",
    "    epochs_completed = 0\n",
    "    if not args['restart']:\n",
    "        last_model = tf.train.latest_checkpoint(modelpath)\n",
    "        print(\"Restoring model %s.\",last_model)\n",
    "        model_saver.restore(sess,last_model)\n",
    "        epochs_completed = int(re.match(r'^.*?\\_epoch\\_(.*?)\\.ckpt.*?$',last_model).groups()[0])\n",
    "        trainset._epochs_completed = epochs_completed\n",
    "    \n",
    "    #losses\n",
    "    train_loss=0.\n",
    "    train_batches=0\n",
    "    total_batches=0\n",
    "    train_time=0\n",
    "    \n",
    "    #do training\n",
    "    while (epochs_completed < args['num_epochs']) and not sess.should_stop():\n",
    "        \n",
    "        #increment total batch counter\n",
    "        total_batches+=1\n",
    "        \n",
    "        #get next batch\n",
    "        images,labels,normweights,_ = trainset.next_batch(args['train_batch_size_per_node'])\n",
    "        #set weights to zero\n",
    "        normweights[:] = 1.\n",
    "        \n",
    "        #update weights\n",
    "        start_time = time.time()\n",
    "        if args['create_summary']:\n",
    "            _, summary, tmp_loss, pred = sess.run([train_step, train_summary, loss_fn, pred_fn],\n",
    "                                                  feed_dict={variables['images_']: images, \n",
    "                                                  variables['labels_']: labels, \n",
    "                                                  variables['weights_']: normweights, \n",
    "                                                  variables['keep_prob_']: args['dropout_p']})\n",
    "        else:\n",
    "            _, tmp_loss, pred = sess.run([train_step, loss_fn, pred_fn],\n",
    "                                        feed_dict={variables['images_']: images, \n",
    "                                        variables['labels_']: labels, \n",
    "                                        variables['weights_']: normweights, \n",
    "                                        variables['keep_prob_']: args['dropout_p']})\n",
    "        end_time = time.time()\n",
    "        train_time += end_time-start_time\n",
    "        \n",
    "        #add to summary\n",
    "        if args['create_summary']:\n",
    "            with tf.device(args['device']):\n",
    "                train_writer.add_summary(summary, total_batches)\n",
    "        \n",
    "        #increment train loss and batch number\n",
    "        train_loss += tmp_loss\n",
    "        train_batches += 1\n",
    "        \n",
    "        #determine if we give a short update:\n",
    "        if train_batches%args['display_interval']==0:\n",
    "            print(\"REPORT epoch %d.%d, average training loss %g (%.3f sec/batch)\"%(epochs_completed, train_batches,\n",
    "                                                                                train_loss/float(train_batches),\n",
    "                                                                                train_time/float(train_batches)))\n",
    "        \n",
    "        #check if epoch is done\n",
    "        if trainset._epochs_completed>epochs_completed:\n",
    "            epochs_completed=trainset._epochs_completed\n",
    "            print(\"COMPLETED epoch %d, average training loss %g (%.3f sec/batch)\"%(epochs_completed, \n",
    "                                                                                 train_loss/float(train_batches),\n",
    "                                                                                 train_time/float(train_batches)))\n",
    "            train_loss=0.\n",
    "            train_batches=0\n",
    "            train_time=0\n",
    "            \n",
    "            #compute validation loss:\n",
    "            #reset variables\n",
    "            validation_loss=0.\n",
    "            validation_batches=0\n",
    "            sess.run(init_local_op)\n",
    "            \n",
    "            #iterate over batches\n",
    "            while True:\n",
    "                #get next batch\n",
    "                images,labels,normweights,weights = validationset.next_batch(args['validation_batch_size_per_node'])\n",
    "                #set weights to 1:\n",
    "                normweights[:] = 1.\n",
    "                weights[:] = 1.\n",
    "                \n",
    "                #compute loss\n",
    "                if args['create_summary']:\n",
    "                    summary, tmp_loss=sess.run([validation_summary,loss_fn],\n",
    "                                                feed_dict={variables['images_']: images, \n",
    "                                                            variables['labels_']: labels, \n",
    "                                                            variables['weights_']: normweights, \n",
    "                                                            variables['keep_prob_']: 1.0})\n",
    "                else:\n",
    "                    tmp_loss=sess.run([loss_fn],\n",
    "                                    feed_dict={variables['images_']: images, \n",
    "                                                variables['labels_']: labels, \n",
    "                                                variables['weights_']: normweights, \n",
    "                                                variables['keep_prob_']: 1.0})\n",
    "                \n",
    "                #add loss\n",
    "                validation_loss += tmp_loss[0]\n",
    "                validation_batches += 1\n",
    "                \n",
    "                #update accuracy\n",
    "                sess.run(accuracy_fn[1],feed_dict={variables['images_']: images, \n",
    "                                                    variables['labels_']: labels, \n",
    "                                                    variables['weights_']: weights, \n",
    "                                                    variables['keep_prob_']: 1.0})\n",
    "                \n",
    "                #update auc\n",
    "                sess.run(auc_fn[1],feed_dict={variables['images_']: images, \n",
    "                                              variables['labels_']: labels, \n",
    "                                              variables['weights_']: weights, \n",
    "                                              variables['keep_prob_']: 1.0})\n",
    "                                \n",
    "                #check if full pass done\n",
    "                if validationset._epochs_completed>0:\n",
    "                    validationset.reset()\n",
    "                    break\n",
    "                    \n",
    "            print(\"COMPLETED epoch %d, average validation loss %g\"%(epochs_completed, validation_loss/float(validation_batches)))\n",
    "            validation_accuracy = sess.run(accuracy_fn[0])\n",
    "            print(\"COMPLETED epoch %d, average validation accu %g\"%(epochs_completed, validation_accuracy))\n",
    "            validation_auc = sess.run(auc_fn[0])\n",
    "            print(\"COMPLETED epoch %d, average validation auc %g\"%(epochs_completed, validation_auc))\n",
    "            \n",
    "            # Save the variables to disk.\n",
    "            if epochs_completed%args['save_interval']==0:\n",
    "                model_save_path = model_saver.save(sess, args['modelpath']+'/hep_classifier_tfmodel_epoch_'+str(epochs_completed)+'.ckpt')\n",
    "                print 'Model saved in file: %s'%model_save_path"
   ]
  },
  {
   "cell_type": "markdown",
   "metadata": {},
   "source": [
    "# Parse Parameters"
   ]
  },
  {
   "cell_type": "code",
   "execution_count": null,
   "metadata": {
    "collapsed": true
   },
   "outputs": [],
   "source": [
    "args = parse_arguments()"
   ]
  },
  {
   "cell_type": "markdown",
   "metadata": {},
   "source": [
    "# Multi-Node Stuff"
   ]
  },
  {
   "cell_type": "code",
   "execution_count": 6,
   "metadata": {
    "collapsed": false
   },
   "outputs": [],
   "source": [
    "#decide who will be worker and who will be parameters server\n",
    "if args['num_tasks'] > 1:\n",
    "    args['cluster'], args['server'], args['task_index'], args['num_tasks'], args['node_type'] = sc.setup_slurm_cluster(num_ps=args['num_ps'])\n",
    "    if args['node_type'] == \"ps\":\n",
    "        args['server'].join()\n",
    "    elif args['node_type'] == \"worker\":\n",
    "        args['is_chief']=(args['task_index'] == 0)\n",
    "    args['target']=args['server'].target\n",
    "    if args['num_hot_spares']>=args['num_tasks']-args['num_ps']:\n",
    "        raise ValueError(\"The number of hot spares has be be smaller than the number of workers.\")\n",
    "else:\n",
    "    args['cluster']=None\n",
    "    args['server']=None\n",
    "    args['task_index']=0\n",
    "    args['node_type']='worker'\n",
    "    args['is_chief']=True\n",
    "    args['target']=''\n",
    "    args['hot_spares']=0\n",
    "    \n",
    "#general stuff\n",
    "args[\"train_batch_size_per_node\"]=args[\"train_batch_size\"]/(args[\"num_tasks\"]-args[\"num_ps\"])\n",
    "args[\"validation_batch_size_per_node\"]=args[\"validation_batch_size\"]/(args[\"num_tasks\"]-args[\"num_ps\"])"
   ]
  },
  {
   "cell_type": "markdown",
   "metadata": {},
   "source": [
    "# On-Node Stuff"
   ]
  },
  {
   "cell_type": "code",
   "execution_count": null,
   "metadata": {
    "collapsed": true
   },
   "outputs": [],
   "source": [
    "if (args['node_type'] == 'worker'):\n",
    "    #common stuff\n",
    "    os.environ[\"KMP_BLOCKTIME\"] = \"1\"\n",
    "    os.environ[\"KMP_SETTINGS\"] = \"1\"\n",
    "    os.environ[\"KMP_AFFINITY\"]= \"granularity=fine,compact,1,0\"\n",
    "\n",
    "    #arch-specific stuff\n",
    "    if args['arch']=='hsw':\n",
    "        num_inter_threads = 2\n",
    "        num_intra_threads = 16\n",
    "    elif args['arch']=='knl':\n",
    "        num_inter_threads = 2\n",
    "        num_intra_threads = 66\n",
    "    elif args['arch']=='k80':\n",
    "        #use default settings\n",
    "        p = tf.ConfigProto()\n",
    "        num_inter_threads = int(getattr(p,'INTER_OP_PARALLELISM_THREADS_FIELD_NUMBER'))\n",
    "        num_intra_threads = int(getattr(p,'INTRA_OP_PARALLELISM_THREADS_FIELD_NUMBER'))\n",
    "    else:\n",
    "        raise ValueError('Please specify a valid architecture with arch (allowed values: hsw, knl.)')\n",
    "\n",
    "    #set the rest\n",
    "    os.environ['OMP_NUM_THREADS'] = str(num_intra_threads)\n",
    "    sess_config=tf.ConfigProto(inter_op_parallelism_threads=num_inter_threads,\n",
    "                               intra_op_parallelism_threads=num_intra_threads,\n",
    "                               allow_soft_placement=True)\n",
    "\n",
    "    print(\"Rank\",args['task_index'],\": using \",num_inter_threads,\"-way task parallelism with \",num_intra_threads,\"-way data parallelism.\")"
   ]
  },
  {
   "cell_type": "markdown",
   "metadata": {},
   "source": [
    "## Build Network and Functions"
   ]
  },
  {
   "cell_type": "code",
   "execution_count": null,
   "metadata": {
    "collapsed": false
   },
   "outputs": [],
   "source": [
    "if args['node_type'] == 'worker':\n",
    "    print(\"Rank\",args[\"task_index\"],\":\",\"Building model\")\n",
    "    args['device'] = tf.train.replica_device_setter(worker_device=\"/job:worker/task:%d\" % args['task_index'],cluster=args['cluster'])\n",
    "    with tf.device(args['device']):\n",
    "        variables, network = bc.build_cnn_model(args)\n",
    "        variables, pred_fn, loss_fn, accuracy_fn, auc_fn = bc.build_functions(args,variables,network)\n",
    "        tf.add_to_collection('pred_fn', pred_fn)\n",
    "        tf.add_to_collection('loss_fn', loss_fn)\n",
    "        print \"Rank\",args[\"task_index\"],\":\",variables\n",
    "        print \"Rank\",args[\"task_index\"],\":\",network"
   ]
  },
  {
   "cell_type": "markdown",
   "metadata": {},
   "source": [
    "## Setup Iterators"
   ]
  },
  {
   "cell_type": "code",
   "execution_count": null,
   "metadata": {
    "collapsed": false
   },
   "outputs": [],
   "source": [
    "if args['node_type'] == 'worker':\n",
    "    print(\"Rank\",args[\"task_index\"],\":\",\"Setting up iterators\")\n",
    "    \n",
    "    #training files\n",
    "    trainfiles = [args['inputpath']+'/'+x for x in os.listdir(args['inputpath']) if 'train' in x and (x.endswith('.h5') or x.endswith('.hdf5'))]\n",
    "    trainset = bc.DataSet(trainfiles,args['num_tasks'],args['task_index'],split_filelist=True,split_file=False)\n",
    "    \n",
    "    #validation files\n",
    "    validationfiles = [args['inputpath']+'/'+x for x in os.listdir(args['inputpath']) if 'val' in x and (x.endswith('.h5') or x.endswith('.hdf5'))]\n",
    "    validationset = bc.DataSet(validationfiles,args['num_tasks'],args['task_index'],split_filelist=True,split_file=False)"
   ]
  },
  {
   "cell_type": "markdown",
   "metadata": {},
   "source": [
    "# Train Model"
   ]
  },
  {
   "cell_type": "code",
   "execution_count": null,
   "metadata": {
    "collapsed": false
   },
   "outputs": [],
   "source": [
    "#determining which model to load:\n",
    "metafilelist = [args['modelpath']+'/'+x for x in os.listdir(args['modelpath']) if x.endswith('.meta')]\n",
    "if not metafilelist:\n",
    "    #no model found, restart from scratch\n",
    "    args['restart']=True"
   ]
  },
  {
   "cell_type": "code",
   "execution_count": null,
   "metadata": {
    "collapsed": false
   },
   "outputs": [],
   "source": [
    "#initialize session\n",
    "if (args['node_type'] == 'worker'):\n",
    "    \n",
    "    with tf.device(args['device']):\n",
    "        \n",
    "        #a hook that will stop training at\n",
    "        hooks=[tf.train.StopAtStepHook(last_step=1000000)]\n",
    "        \n",
    "        #global step that either gets updated after any node processes a batch (async) or when all nodes process a batch for a given iteration (sync)\n",
    "        global_step = tf.train.get_or_create_global_step()     \n",
    "        opt = tf.train.AdamOptimizer(args['learning_rate'])\n",
    "        if args['mode'] == \"sync\":\n",
    "            #if syncm we make a data structure that will aggregate the gradients form all tasks (one task per node in thsi case)\n",
    "            opt = tf.train.SyncReplicasOptimizer(opt, replicas_to_aggregate=args['num_tasks'], total_num_replicas=args['num_tasks']-args['num_hot_spares'])\n",
    "        train_step = opt.minimize(loss_fn, global_step=global_step)\n",
    "        \n",
    "        if args[\"mode\"] == \"sync\":\n",
    "            hooks.append(opt.make_session_run_hook(is_chief=args['is_chief']))\n",
    "            \n",
    "        #creating summary\n",
    "        if args['create_summary']:\n",
    "            var_summary = []\n",
    "            for item in variables:\n",
    "                var_summary.append(tf.summary.histogram(item,variables[item]))\n",
    "            summary_loss = tf.summary.scalar(\"loss\",loss_fn)\n",
    "            summary_accuracy = tf.summary.scalar(\"accuracy\",accuracy_fn)\n",
    "            train_summary = tf.summary.merge([summary_loss]+var_summary)\n",
    "            validation_summary = tf.summary.merge([summary_loss])\n",
    "            \n",
    "        # Add an op to initialize the variables.\n",
    "        init_global_op = tf.global_variables_initializer()\n",
    "        init_local_op = tf.local_variables_initializer()\n",
    "        \n",
    "        #saver class:\n",
    "        model_saver = tf.train.Saver()\n",
    "        \n",
    "    \n",
    "    print(\"Rank\",args[\"task_index\"],\": starting training\")\n",
    "    with tf.train.MonitoredTrainingSession(config=sess_config, \n",
    "                                           is_chief=args[\"is_chief\"],\n",
    "                                           master=args['target'],\n",
    "                                           #checkpoint_dir=args['modelpath'],\n",
    "                                           hooks=hooks) as sess:\n",
    "    \n",
    "        #create summaries\n",
    "        if args['create_summary']:\n",
    "            with tf.device(args['device']):\n",
    "                train_writer = tf.summary.FileWriter(args['logpath'], sess.graph)\n",
    "                var_summary = []\n",
    "                for item in variables:\n",
    "                    var_summary.append(tf.summary.histogram(item,variables[item]))\n",
    "                summary_loss = tf.summary.scalar(\"loss\",loss_fn)\n",
    "                summary_accuracy = tf.summary.scalar(\"accuracy\",accuracy_fn)\n",
    "                train_summary = tf.summary.merge([summary_loss]+var_summary)\n",
    "                validation_summary = tf.summary.merge([summary_loss])\n",
    "                train_writer = tf.summary.FileWriter(args['logpath'], sess.graph)\n",
    "    \n",
    "        #initialize variables\n",
    "        sess.run([init_global_op, init_local_op])\n",
    "    \n",
    "        #do the training loop\n",
    "        train_loop(sess,train_step,args,trainset,validationset)"
   ]
  },
  {
   "cell_type": "code",
   "execution_count": null,
   "metadata": {
    "collapsed": true
   },
   "outputs": [],
   "source": []
  }
 ],
 "metadata": {
  "anaconda-cloud": {},
  "kernelspec": {
   "display_name": "thorstendl",
   "language": "python",
   "name": "thorstendl"
  },
  "language_info": {
   "codemirror_mode": {
    "name": "ipython",
    "version": 2
   },
   "file_extension": ".py",
   "mimetype": "text/x-python",
   "name": "python",
   "nbconvert_exporter": "python",
   "pygments_lexer": "ipython2",
   "version": "2.7.12"
  }
 },
 "nbformat": 4,
 "nbformat_minor": 2
}
